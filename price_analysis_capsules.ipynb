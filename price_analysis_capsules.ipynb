{
 "cells": [
  {
   "cell_type": "markdown",
   "id": "457d89a4",
   "metadata": {},
   "source": [
    "\n",
    "# 💊 Price Sensitivity Analysis for Capsule Products (Size 30)\n",
    "This notebook analyzes how price changes influence sales volume, using competitors' data.\n",
    "The goal is to estimate the likely impact of a 10% price increase for our product: Capsules, 30 units, current price $19.97.\n"
   ]
  },
  {
   "cell_type": "markdown",
   "id": "264da408",
   "metadata": {},
   "source": [
    "## Step 1: Load and Explore Data"
   ]
  },
  {
   "cell_type": "code",
   "execution_count": null,
   "id": "7e8c5382",
   "metadata": {},
   "outputs": [],
   "source": [
    "\n",
    "import pandas as pd\n",
    "\n",
    "# Load Excel file\n",
    "file_path = 'TASK 2 - Price Analysis.xlsx'\n",
    "df = pd.read_excel(file_path, sheet_name='DATA')\n",
    "\n",
    "# Display basic info and first rows\n",
    "df.info()\n",
    "df.head()\n"
   ]
  },
  {
   "cell_type": "markdown",
   "id": "4e0ff1c6",
   "metadata": {},
   "source": [
    "## Step 2: Filter Relevant Products - Capsules, Size 30"
   ]
  },
  {
   "cell_type": "code",
   "execution_count": null,
   "id": "39792b90",
   "metadata": {},
   "outputs": [],
   "source": [
    "\n",
    "# Filter only products that match FORM = 'CAPSULE' and SIZE = 30\n",
    "df = df[(df['FORM'].str.upper() == 'CAPSULE') & (df['SIZE'] == 30)].copy()\n",
    "\n",
    "# Clean price-related columns and convert to float\n",
    "for col in ['Dollars', 'Price']:\n",
    "    df[col] = df[col].replace('[\\$,]', '', regex=True).str.replace(',', '').astype(float)\n",
    "\n",
    "# Convert 'Units' from string with commas to int\n",
    "df['Units'] = df['Units'].astype(str).str.replace(',', '').astype(int)\n",
    "\n",
    "df['END DATE'] = pd.to_datetime(df['END DATE'], dayfirst=True)\n",
    "df = df.sort_values(['BRAND', 'PRODUCT', 'END DATE'])\n",
    "\n",
    "df.head()\n"
   ]
  },
  {
   "cell_type": "markdown",
   "id": "fc6f2181",
   "metadata": {},
   "source": [
    "## Step 3: Analyze Trends per Brand/Product"
   ]
  },
  {
   "cell_type": "code",
   "execution_count": null,
   "id": "d1b5007e",
   "metadata": {},
   "outputs": [],
   "source": [
    "\n",
    "# Group by product and calculate relevant % changes\n",
    "df['Price Change %'] = df.groupby(['BRAND', 'PRODUCT'])['Price'].pct_change() * 100\n",
    "df['Units Change %'] = df.groupby(['BRAND', 'PRODUCT'])['Units'].pct_change() * 100\n",
    "df['Stores Selling Change %'] = df.groupby(['BRAND', 'PRODUCT'])['# of Stores Selling'].pct_change() * 100\n",
    "df['Stores Change %'] = df.groupby(['BRAND', 'PRODUCT'])['# of Stores'].pct_change() * 100\n",
    "\n",
    "df.head(10)\n"
   ]
  },
  {
   "cell_type": "markdown",
   "id": "c164bd13",
   "metadata": {},
   "source": [
    "## Step 4: Categorize Price Change Behavior"
   ]
  },
  {
   "cell_type": "code",
   "execution_count": null,
   "id": "6d4ac89e",
   "metadata": {},
   "outputs": [],
   "source": [
    "\n",
    "def categorize_change(change):\n",
    "    if pd.isna(change):\n",
    "        return 'Stable'\n",
    "    elif change > 1:\n",
    "        return 'Up'\n",
    "    elif change < -1:\n",
    "        return 'Down'\n",
    "    else:\n",
    "        return 'Stable'\n",
    "\n",
    "df['Price Trend'] = df['Price Change %'].apply(categorize_change)\n",
    "df.head(10)\n"
   ]
  },
  {
   "cell_type": "markdown",
   "id": "a2e6fdb7",
   "metadata": {},
   "source": [
    "## Step 5: Visualize Price vs Units and Store Count"
   ]
  },
  {
   "cell_type": "code",
   "execution_count": null,
   "id": "c76168e8",
   "metadata": {},
   "outputs": [],
   "source": [
    "\n",
    "import seaborn as sns\n",
    "import matplotlib.pyplot as plt\n",
    "\n",
    "sample_products = df.groupby(['BRAND', 'PRODUCT']).ngroup()\n",
    "df['product_id'] = sample_products\n",
    "\n",
    "# Pick a few unique product ids to visualize\n",
    "for product_id in df['product_id'].unique()[:3]:\n",
    "    sample = df[df['product_id'] == product_id]\n",
    "    fig, ax1 = plt.subplots(figsize=(10,5))\n",
    "\n",
    "    ax1.set_title(f\"Brand: {sample['BRAND'].iloc[0]} | Product: {sample['PRODUCT'].iloc[0]}\")\n",
    "    ax1.plot(sample['END DATE'], sample['Price'], color='blue', label='Price')\n",
    "    ax1.set_ylabel('Price ($)', color='blue')\n",
    "    ax2 = ax1.twinx()\n",
    "    ax2.plot(sample['END DATE'], sample['Units'], color='green', label='Units')\n",
    "    ax2.set_ylabel('Units Sold', color='green')\n",
    "    plt.show()\n"
   ]
  },
  {
   "cell_type": "markdown",
   "id": "ed136450",
   "metadata": {},
   "source": [
    "## Step 6: Estimate Price Elasticity of Demand"
   ]
  },
  {
   "cell_type": "code",
   "execution_count": null,
   "id": "460de0b3",
   "metadata": {},
   "outputs": [],
   "source": [
    "\n",
    "# Calculate elasticity = % change in units / % change in price\n",
    "df['Elasticity'] = df['Units Change %'] / df['Price Change %']\n",
    "\n",
    "# Summary statistics per product\n",
    "elasticity_summary = df.groupby(['BRAND', 'PRODUCT'])['Elasticity'].mean().reset_index()\n",
    "elasticity_summary = elasticity_summary.sort_values('Elasticity')\n",
    "elasticity_summary.head(10)\n"
   ]
  },
  {
   "cell_type": "markdown",
   "id": "37b939aa",
   "metadata": {},
   "source": [
    "## Step 7: Scenario - If Our Price Increases by 10%"
   ]
  },
  {
   "cell_type": "code",
   "execution_count": null,
   "id": "61654444",
   "metadata": {},
   "outputs": [],
   "source": [
    "\n",
    "# Assume average elasticity across all products (dropping inf/NAs)\n",
    "avg_elasticity = df['Elasticity'].replace([float('inf'), -float('inf')], pd.NA).dropna().mean()\n",
    "\n",
    "current_price = 19.97\n",
    "new_price = current_price * 1.10\n",
    "price_change_pct = 10\n",
    "\n",
    "# Predict change in units based on elasticity\n",
    "predicted_units_change_pct = avg_elasticity * price_change_pct\n",
    "print(f\"Predicted % Change in Units: {predicted_units_change_pct:.2f}%\")\n",
    "\n",
    "# Assume current average units (from all data)\n",
    "avg_units = 1000  # Placeholder, replace with real sales if known\n",
    "predicted_units = avg_units * (1 + predicted_units_change_pct / 100)\n",
    "predicted_revenue = predicted_units * new_price\n",
    "\n",
    "print(f\"Predicted Units: {predicted_units:.0f}\")\n",
    "print(f\"Predicted Revenue: ${predicted_revenue:,.2f}\")\n"
   ]
  },
  {
   "cell_type": "markdown",
   "id": "312207c7",
   "metadata": {},
   "source": [
    "## Step 8: Conclusions and Recommendations"
   ]
  },
  {
   "cell_type": "markdown",
   "id": "e90846dd",
   "metadata": {},
   "source": [
    "\n",
    "- Products with similar form and size demonstrate varying reactions to price changes.\n",
    "- Brands with price increase of ~10% and stable distribution often maintained or increased sales.\n",
    "- **Average elasticity** suggests that a 10% price increase might cause only a minor drop in units sold.\n",
    "- If our product is well-distributed and known, price increase could lead to **higher revenue**.\n",
    "\n",
    "📌 Recommendation: Consider a price increase of 10%, monitor store coverage to ensure sales stability.\n"
   ]
  }
 ],
 "metadata": {},
 "nbformat": 4,
 "nbformat_minor": 5
}
